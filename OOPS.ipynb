{
  "nbformat": 4,
  "nbformat_minor": 0,
  "metadata": {
    "colab": {
      "provenance": [],
      "authorship_tag": "ABX9TyMsB4ZkBch6szapxvevuo3Q"
    },
    "kernelspec": {
      "name": "python3",
      "display_name": "Python 3"
    },
    "language_info": {
      "name": "python"
    }
  },
  "cells": [
    {
      "cell_type": "markdown",
      "source": [
        "**1. What are the five key concepts of Object-Oriented Programming (OOP)?**"
      ],
      "metadata": {
        "id": "i3qdoQMNtI8A"
      }
    },
    {
      "cell_type": "markdown",
      "source": [
        "The five key concepts of Object-Oriented Programming (**OOP**) are:\n",
        "\n",
        "**Encapsulation**: This concept involves bundling the data (attributes) and methods (functions) that operate on the data into a single unit, or object. It also restricts direct access to some of the object's components, which helps protect the integrity of the data.\n",
        "\n",
        "**Abstraction**: Abstraction allows programmers to focus on the essential qualities of an object rather than its specific implementation details. It simplifies complex systems by providing a clear interface and hiding the underlying complexity.\n",
        "\n",
        "**Inheritance**: Inheritance is a mechanism that allows a new class (subclass) to inherit properties and behaviors (methods) from an existing class (superclass). This promotes code reusability and establishes a hierarchical relationship between classes.\n",
        "\n",
        "**Polymorphism**: Polymorphism enables objects to be treated as instances of their parent class. It allows methods to do different things based on the object that it is acting upon, typically through method overriding or method overloading.\n",
        "\n",
        "**Composition**: Composition involves building complex objects from simpler ones by including other objects as components. This allows for more flexible and modular design, where the behavior of an object can be changed by composing it with different objects."
      ],
      "metadata": {
        "id": "csMsic-twfnI"
      }
    },
    {
      "cell_type": "code",
      "execution_count": 40,
      "metadata": {
        "id": "kftEZLsZtBgC"
      },
      "outputs": [],
      "source": []
    },
    {
      "cell_type": "markdown",
      "source": [
        "**2. Write a Python class for a `Car` with attributes for `make`, `model`, and `year`. Include a method to display the car's information.**"
      ],
      "metadata": {
        "id": "Nybh2sO3tIE7"
      }
    },
    {
      "cell_type": "code",
      "source": [
        "class Car:\n",
        "  def __init__(self,make,model,year):\n",
        "    self.make = make\n",
        "    self.model = model\n",
        "    self.year = year\n",
        "\n",
        "  def display_info(self):\n",
        "    car_info = (f\"{self.make} {self.model} {self.year}\")\n",
        "    print(car_info)\n",
        "\n"
      ],
      "metadata": {
        "id": "-TnrwhSRtVRY"
      },
      "execution_count": 41,
      "outputs": []
    },
    {
      "cell_type": "code",
      "source": [
        "#making object with example\n",
        "car1 = Car(\"Audi\",\"sedan\",2024)\n",
        "car1.display_info()"
      ],
      "metadata": {
        "colab": {
          "base_uri": "https://localhost:8080/"
        },
        "id": "wUG8enl7zBve",
        "outputId": "5d097941-a67a-4aee-a3d8-6f416e850a87"
      },
      "execution_count": 42,
      "outputs": [
        {
          "output_type": "stream",
          "name": "stdout",
          "text": [
            "Audi sedan 2024\n"
          ]
        }
      ]
    },
    {
      "cell_type": "markdown",
      "source": [
        "**3. Explain the difference between instance methods and class methods. Provide an example of each.**"
      ],
      "metadata": {
        "id": "TMl6-RGAtVnI"
      }
    },
    {
      "cell_type": "markdown",
      "source": [
        "In Python, instance methods and class methods serve different purposes and are defined using different decorators.\n",
        "\n",
        "**Instance Methods**\n",
        "\n",
        "Definition:\n",
        " Instance methods are functions that operate on an instance of a class. They take self as the first parameter, which refers to the specific instance of the class.\n",
        "\n",
        "Purpose:\n",
        "They can access and modify instance attributes and can be used to perform actions related to that specific object."
      ],
      "metadata": {
        "id": "9HjpEdJE0foy"
      }
    },
    {
      "cell_type": "code",
      "source": [
        "#example of an instance method\n",
        "class Dog:\n",
        "    def __init__(self, name):\n",
        "        self.name = name\n",
        "\n",
        "    def bark(self):\n",
        "        return f\"{self.name} says wooh!\"\n",
        "\n",
        "#object example\n",
        "my_dog = Dog(\"Kalia\")\n",
        "print(my_dog.bark())\n"
      ],
      "metadata": {
        "colab": {
          "base_uri": "https://localhost:8080/"
        },
        "id": "Bk7MVozqtacC",
        "outputId": "b5b45b1a-3501-4644-81b1-59c7636b675c"
      },
      "execution_count": 43,
      "outputs": [
        {
          "output_type": "stream",
          "name": "stdout",
          "text": [
            "Kalia says wooh!\n"
          ]
        }
      ]
    },
    {
      "cell_type": "markdown",
      "source": [
        "**Class Methods**\n",
        "\n",
        "Definition: Class methods are functions that operate on the class itself rather than an instance of the class. They are defined using the @classmethod decorator and take cls as the first parameter, which refers to the class itself.\n",
        "\n",
        "Purpose: They can be used to access class-level attributes and methods, or to perform operations that are relevant to the class as a whole."
      ],
      "metadata": {
        "id": "YHLICaj11Nxz"
      }
    },
    {
      "cell_type": "code",
      "source": [
        "#example\n",
        "class Dog:\n",
        "    species = \"Canis lupus familiaris\"  #class attribute\n",
        "\n",
        "    def __init__(self, name):\n",
        "        self.name = name\n",
        "\n",
        "    @classmethod\n",
        "    def get_species(cls):\n",
        "        return cls.species\n",
        "\n",
        "print(Dog.get_species())\n"
      ],
      "metadata": {
        "colab": {
          "base_uri": "https://localhost:8080/"
        },
        "id": "_IBWkHAB1Vvp",
        "outputId": "98b828f4-0fd2-4ba1-9e5a-2e9aa840e99b"
      },
      "execution_count": 44,
      "outputs": [
        {
          "output_type": "stream",
          "name": "stdout",
          "text": [
            "Canis lupus familiaris\n"
          ]
        }
      ]
    },
    {
      "cell_type": "markdown",
      "source": [
        "**4. How does Python implement method overloading? Give an example.**"
      ],
      "metadata": {
        "id": "C-4lPZTbta_U"
      }
    },
    {
      "cell_type": "markdown",
      "source": [
        "In Python, **method overloading** (the ability to define multiple methods with the same name but different signatures) is not supported in the same way it is in other languages like Java or C++. However, Python can achieve similar behavior through default arguments, *args, **kwargs, or by explicitly checking argument types or counts within the method body."
      ],
      "metadata": {
        "id": "nlJmzxxs2Ton"
      }
    },
    {
      "cell_type": "code",
      "source": [
        "#using default arguments\n",
        "class Calculator:\n",
        "  def add(self,a,b=0,c=0):\n",
        "    return a+b+c\n",
        "cal = Calculator()\n",
        "print(cal.add(10))\n",
        "print(cal.add(10,23))\n",
        "print(cal.add(56,25,23))"
      ],
      "metadata": {
        "colab": {
          "base_uri": "https://localhost:8080/"
        },
        "id": "qA6MCqg3te-T",
        "outputId": "80e2e25d-0245-439d-f69f-c8dc0838f8da"
      },
      "execution_count": 45,
      "outputs": [
        {
          "output_type": "stream",
          "name": "stdout",
          "text": [
            "10\n",
            "33\n",
            "104\n"
          ]
        }
      ]
    },
    {
      "cell_type": "code",
      "source": [
        "#using *args\n",
        "class Calculator:\n",
        "  def add(self,*args):\n",
        "    return sum(args)\n",
        "\n",
        "cal1 = Calculator()\n",
        "print(cal1.add(20))\n",
        "print(cal1.add(20,10))\n",
        "print(cal1.add(20,10,5))"
      ],
      "metadata": {
        "colab": {
          "base_uri": "https://localhost:8080/"
        },
        "id": "ZFfhsE_w3JAz",
        "outputId": "5006cf2b-e570-4a19-f421-28c75bc72d56"
      },
      "execution_count": 46,
      "outputs": [
        {
          "output_type": "stream",
          "name": "stdout",
          "text": [
            "20\n",
            "30\n",
            "35\n"
          ]
        }
      ]
    },
    {
      "cell_type": "code",
      "source": [
        "#another example checking argument types\n",
        "class Calculator:\n",
        "    def add(self,a,b):\n",
        "        if isinstance(a, str) and isinstance(b, str):\n",
        "            return a + \" \" + b\n",
        "        else:\n",
        "           isinstance(a, int) and isinstance(b, int)\n",
        "           return a + b\n",
        "\n",
        "calc = Calculator()\n",
        "print(calc.add(10, 20))\n",
        "print(calc.add(\"Hello\", \"World\"))\n"
      ],
      "metadata": {
        "colab": {
          "base_uri": "https://localhost:8080/"
        },
        "id": "y6DjUV-a3wBe",
        "outputId": "941b47a9-a6ee-4649-f202-20bb7a6c328f"
      },
      "execution_count": 47,
      "outputs": [
        {
          "output_type": "stream",
          "name": "stdout",
          "text": [
            "30\n",
            "Hello World\n"
          ]
        }
      ]
    },
    {
      "cell_type": "markdown",
      "source": [
        "**5. What are the three types of access modifiers in Python? How are they denoted?**"
      ],
      "metadata": {
        "id": "R9wzYcAktfel"
      }
    },
    {
      "cell_type": "markdown",
      "source": [
        "In Python, access modifiers control the accessibility of class members (attributes and methods). While Python does not enforce strict access control like other languages (e.g., Java, C++), it provides a convention for defining three types of access modifiers:\n",
        "\n",
        "1. **Public** - A member is public when it is accessible from anywhere, both within and outside the class. Public members have no special notation. Any variable or method that does not start with an underscore (_) is considered public.\n",
        "\n",
        "2. **Protected** - A member is protected when it is intended to be accessible only within its own class and subclasses. However, Python only uses a convention to signal that a member is protected and still allows access from outside the class. Protected members are denoted by a single underscore (_) before the name.\n",
        "\n",
        "3. **Private** -  A member is private when it is intended to be accessible only within the class in which it is defined. Python applies name mangling to prevent direct access from outside the class. Private members are denoted by double underscores (__) before the name."
      ],
      "metadata": {
        "id": "2nFk2ZOM5kaF"
      }
    },
    {
      "cell_type": "code",
      "source": [
        "#public modifiers\n",
        "class Student:\n",
        "    def __init__(self, name, degree):\n",
        "        self.name = name\n",
        "        self.degree = degree\n",
        "\n",
        "stud1 = Student(\"Suman\", \"MCA\")\n",
        "stud1.name #accessible outside the class"
      ],
      "metadata": {
        "colab": {
          "base_uri": "https://localhost:8080/",
          "height": 36
        },
        "id": "y1E_1TpXtjdm",
        "outputId": "a6a707cb-7558-429e-a7a5-b4a16ff7a29a"
      },
      "execution_count": 48,
      "outputs": [
        {
          "output_type": "execute_result",
          "data": {
            "text/plain": [
              "'Suman'"
            ],
            "application/vnd.google.colaboratory.intrinsic+json": {
              "type": "string"
            }
          },
          "metadata": {},
          "execution_count": 48
        }
      ]
    },
    {
      "cell_type": "code",
      "source": [
        "stud1.degree"
      ],
      "metadata": {
        "colab": {
          "base_uri": "https://localhost:8080/",
          "height": 36
        },
        "id": "CgDsumTl7Vbb",
        "outputId": "0fc0c847-309f-4d5d-aee1-20edded946e2"
      },
      "execution_count": 49,
      "outputs": [
        {
          "output_type": "execute_result",
          "data": {
            "text/plain": [
              "'MCA'"
            ],
            "application/vnd.google.colaboratory.intrinsic+json": {
              "type": "string"
            }
          },
          "metadata": {},
          "execution_count": 49
        }
      ]
    },
    {
      "cell_type": "code",
      "source": [
        "#protected modifiers\n",
        "class College:\n",
        "    def __init__(self):\n",
        "        self._college_name = \"RERF\" #protected data, (_) i.e, _college_name\n",
        "class Student(College):\n",
        "    def __init__(self, name):\n",
        "        self.name = name\n",
        "        College.__init__(self) #accesing variable of base class\n",
        "\n",
        "    def show(self):\n",
        "        print(\"name\", self.name, \"college\", self._college_name) #directly call the base class variable using \"_\""
      ],
      "metadata": {
        "id": "RPNd-X697ek7"
      },
      "execution_count": 50,
      "outputs": []
    },
    {
      "cell_type": "code",
      "source": [
        "stud = Student(\"Suman\")\n",
        "stud.name"
      ],
      "metadata": {
        "colab": {
          "base_uri": "https://localhost:8080/",
          "height": 36
        },
        "id": "5Fvl9sAd8Eaq",
        "outputId": "5402b141-19e9-4dbf-e674-235f454a9a1f"
      },
      "execution_count": 51,
      "outputs": [
        {
          "output_type": "execute_result",
          "data": {
            "text/plain": [
              "'Suman'"
            ],
            "application/vnd.google.colaboratory.intrinsic+json": {
              "type": "string"
            }
          },
          "metadata": {},
          "execution_count": 51
        }
      ]
    },
    {
      "cell_type": "code",
      "source": [
        "stud.show()"
      ],
      "metadata": {
        "colab": {
          "base_uri": "https://localhost:8080/"
        },
        "id": "1DSOTxHC8QdG",
        "outputId": "ca62abea-a039-4757-d6bb-d51867c932ee"
      },
      "execution_count": 52,
      "outputs": [
        {
          "output_type": "stream",
          "name": "stdout",
          "text": [
            "name Suman college RERF\n"
          ]
        }
      ]
    },
    {
      "cell_type": "code",
      "source": [
        "#private modifiers\n",
        "class MyClass:\n",
        "    def __init__(self):\n",
        "        self.__private_var = \"I am private\"\n",
        "\n",
        "    def __private_method(self):\n",
        "        print(\"This is a private method\")\n",
        "\n",
        "obj = MyClass()\n",
        "#access through name\n",
        "print(obj._MyClass__private_var)\n",
        "obj._MyClass__private_method()"
      ],
      "metadata": {
        "colab": {
          "base_uri": "https://localhost:8080/"
        },
        "id": "Py6Ku_-18YIe",
        "outputId": "e401e242-755f-4196-d5cc-8bac2c7ea88d"
      },
      "execution_count": 53,
      "outputs": [
        {
          "output_type": "stream",
          "name": "stdout",
          "text": [
            "I am private\n",
            "This is a private method\n"
          ]
        }
      ]
    },
    {
      "cell_type": "markdown",
      "source": [
        "**6. Describe the five types of inheritance in Python. Provide a simple example of multiple inheritance.**"
      ],
      "metadata": {
        "id": "_8WuNmUvtj7V"
      }
    },
    {
      "cell_type": "markdown",
      "source": [
        "In Python, inheritance allows one class to acquire properties (methods and attributes) from another class. Python supports five types of inheritance:\n",
        "\n",
        "1. **Single Inheritance**\n",
        "In single inheritance, a class inherits from only one base class.\n",
        "\n",
        "2. **Multiple Inheritance**\n",
        "In multiple inheritance, a class can inherit from more than one base class. The derived class inherits properties from all parent classes.\n",
        "\n",
        "3. **Multilevel Inheritance**\n",
        "In multilevel inheritance, a class is derived from a class, which is also derived from another class, creating a hierarchy of inheritance.\n",
        "\n",
        "4. **Hierarchical Inheritance**\n",
        "In hierarchical inheritance, multiple classes inherit from a single base class.\n",
        "\n",
        "5. **Hybrid Inheritance**\n",
        "Hybrid inheritance is a combination of two or more types of inheritance. It may include single, multiple, multilevel, or hierarchical inheritance."
      ],
      "metadata": {
        "id": "_e-_SAiwCIQN"
      }
    },
    {
      "cell_type": "code",
      "source": [
        "#single inheritence\n",
        "class Parent:\n",
        "    def show(self):\n",
        "        print(\"Parent class\")\n",
        "class Child(Parent):\n",
        "    pass\n",
        "\n",
        "obj = Child()\n",
        "obj.show()"
      ],
      "metadata": {
        "colab": {
          "base_uri": "https://localhost:8080/"
        },
        "id": "jN796Hm_toI9",
        "outputId": "3d616124-c7b3-4c17-da4a-94dca14bf018"
      },
      "execution_count": 54,
      "outputs": [
        {
          "output_type": "stream",
          "name": "stdout",
          "text": [
            "Parent class\n"
          ]
        }
      ]
    },
    {
      "cell_type": "code",
      "source": [
        "#multiple\n",
        "class Parent1:\n",
        "    def display1(self):\n",
        "        print(\"Parent1 class\")\n",
        "class Parent2:\n",
        "    def display2(self):\n",
        "        print(\"Parent2 class\")\n",
        "\n",
        "class Child(Parent1, Parent2):\n",
        "    pass\n",
        "obj = Child()\n",
        "obj.display1()\n",
        "obj.display2()\n"
      ],
      "metadata": {
        "colab": {
          "base_uri": "https://localhost:8080/"
        },
        "id": "PxyIB1JyC0oQ",
        "outputId": "5fabf293-e937-4c85-e3c6-07be5245b309"
      },
      "execution_count": 55,
      "outputs": [
        {
          "output_type": "stream",
          "name": "stdout",
          "text": [
            "Parent1 class\n",
            "Parent2 class\n"
          ]
        }
      ]
    },
    {
      "cell_type": "code",
      "source": [
        "#multilevel\n",
        "class Grandfather:\n",
        "    def show(self):\n",
        "        print(\"Grandfather class\")\n",
        "class Parent(Grandfather):\n",
        "    pass\n",
        "class Child(Parent):\n",
        "    pass\n",
        "\n",
        "obj = Child()\n",
        "obj.show()"
      ],
      "metadata": {
        "colab": {
          "base_uri": "https://localhost:8080/"
        },
        "id": "gPrkxp03DA0A",
        "outputId": "fc121bfc-2b72-4e42-9af1-7b32275df9f9"
      },
      "execution_count": 56,
      "outputs": [
        {
          "output_type": "stream",
          "name": "stdout",
          "text": [
            "Grandfather class\n"
          ]
        }
      ]
    },
    {
      "cell_type": "code",
      "source": [
        "#hierarchical\n",
        "class Parent:\n",
        "    def display(self):\n",
        "        print(\"Parent class\")\n",
        "class Child1(Parent):\n",
        "    pass\n",
        "class Child2(Parent):\n",
        "    pass\n",
        "obj1 = Child1()\n",
        "obj2 = Child2()\n",
        "obj1.display()\n",
        "obj2.display()\n"
      ],
      "metadata": {
        "colab": {
          "base_uri": "https://localhost:8080/"
        },
        "id": "QNhg_c7fDNF_",
        "outputId": "ffdf2aa8-d920-4d04-ab8b-254cc9bc0c4a"
      },
      "execution_count": 57,
      "outputs": [
        {
          "output_type": "stream",
          "name": "stdout",
          "text": [
            "Parent class\n",
            "Parent class\n"
          ]
        }
      ]
    },
    {
      "cell_type": "code",
      "source": [
        "#hybrid\n",
        "class Parent:\n",
        "    def display(self):\n",
        "        print(\"Parent class\")\n",
        "class Child1(Parent):\n",
        "    pass\n",
        "class Child2(Parent):\n",
        "    pass\n",
        "class Grandson(Child1, Child2):\n",
        "    pass\n",
        "obj = Grandson()\n",
        "obj.display()\n"
      ],
      "metadata": {
        "colab": {
          "base_uri": "https://localhost:8080/"
        },
        "id": "GxGv7SlhDlOS",
        "outputId": "4887e939-3720-4cad-b23b-acc40a1d2227"
      },
      "execution_count": 58,
      "outputs": [
        {
          "output_type": "stream",
          "name": "stdout",
          "text": [
            "Parent class\n"
          ]
        }
      ]
    },
    {
      "cell_type": "markdown",
      "source": [
        "**7. What is the Method Resolution Order (MRO) in Python? How can you retrieve it programmatically?**"
      ],
      "metadata": {
        "id": "1U6zRi_ltomZ"
      }
    },
    {
      "cell_type": "markdown",
      "source": [
        "**Method Resolution Order (MRO)** is the order in which Python looks for a method or attribute in a class and its parents. MRO becomes particularly important in cases of multiple inheritance, as it ensures that Python knows in what sequence to search for a method across parent classes.\n",
        "\n",
        "Python follows the C3 Linearization algorithm (also known as C3 superclass linearization) to determine the MRO. This algorithm ensures:\n",
        "\n",
        "**Consistency:** Child classes are checked before parent classes.\n",
        "\n",
        "**Order**: Methods from left-to-right parent classes are preferred in multiple inheritance.\n",
        "\n",
        "**Avoiding duplication**: Methods and attributes are not repeatedly checked once they have been processed.\n",
        "\n",
        "You can retrieve the MRO in Python using:\n",
        "\n",
        "ClassName.__mro__: This returns a tuple of classes in the MRO.\n",
        "\n",
        "ClassName.mro(): This returns a list of classes in the MRO.\n",
        "\n",
        "help(ClassName): This displays the MRO along with other class-related information.\n",
        "\n",
        "In complex inheritance structures (especially with multiple inheritance), MRO ensures:\n",
        "\n",
        "Consistent lookup of methods and attributes.\n",
        "\n",
        "Avoidance of conflicts and ambiguity in case multiple base classes define the same method."
      ],
      "metadata": {
        "id": "sr787ctKD_f3"
      }
    },
    {
      "cell_type": "code",
      "source": [
        "#example\n",
        "class A:\n",
        "    def method(self):\n",
        "        print(\"Class A\")\n",
        "class B(A):\n",
        "    def method(self):\n",
        "        print(\"Class B\")\n",
        "class C(A):\n",
        "    def method(self):\n",
        "        print(\"Class C\")\n",
        "class D(B, C):\n",
        "    pass\n",
        "#retrieve MRO using __mro__ attribute\n",
        "print(D.__mro__)\n",
        "#retrieve MRO using mro() method\n",
        "print(D.mro())\n",
        "# You can also use help() to display the MRO\n",
        "help(D)\n"
      ],
      "metadata": {
        "colab": {
          "base_uri": "https://localhost:8080/"
        },
        "id": "ih_VLPrtttKt",
        "outputId": "5eeefa00-572d-45ac-dd5a-ca39036911aa"
      },
      "execution_count": 59,
      "outputs": [
        {
          "output_type": "stream",
          "name": "stdout",
          "text": [
            "(<class '__main__.D'>, <class '__main__.B'>, <class '__main__.C'>, <class '__main__.A'>, <class 'object'>)\n",
            "[<class '__main__.D'>, <class '__main__.B'>, <class '__main__.C'>, <class '__main__.A'>, <class 'object'>]\n",
            "Help on class D in module __main__:\n",
            "\n",
            "class D(B, C)\n",
            " |  Method resolution order:\n",
            " |      D\n",
            " |      B\n",
            " |      C\n",
            " |      A\n",
            " |      builtins.object\n",
            " |  \n",
            " |  Methods inherited from B:\n",
            " |  \n",
            " |  method(self)\n",
            " |  \n",
            " |  ----------------------------------------------------------------------\n",
            " |  Data descriptors inherited from A:\n",
            " |  \n",
            " |  __dict__\n",
            " |      dictionary for instance variables (if defined)\n",
            " |  \n",
            " |  __weakref__\n",
            " |      list of weak references to the object (if defined)\n",
            "\n"
          ]
        }
      ]
    },
    {
      "cell_type": "markdown",
      "source": [
        "**8. Create an abstract base class `Shape` with an abstract method `area()`. Then create two subclasses `Circle` and `Rectangle` that implement the `area()` method.**"
      ],
      "metadata": {
        "id": "71otexqittd9"
      }
    },
    {
      "cell_type": "markdown",
      "source": [
        "In Python, you can define an abstract base class (ABC) using the abc module. An abstract class is a class that cannot be instantiated directly and typically contains one or more abstract methods that must be implemented by any non-abstract subclasses.\n",
        "\n",
        "Here’s how you can create an abstract base class Shape with an abstract method area(), and then implement two concrete subclasses, Circle and Rectangle, that provide their own definitions of the area() method."
      ],
      "metadata": {
        "id": "thILjaWnFR9K"
      }
    },
    {
      "cell_type": "code",
      "source": [
        "from abc import ABC, abstractmethod\n",
        "import math\n",
        "class Shape(ABC):  #abstract base class\n",
        "  @abstractmethod\n",
        "  def area(self):\n",
        "    pass\n",
        "class Circle(Shape): #circle class implements area method\n",
        "  def __init__(self,radius):\n",
        "    self.radius = radius\n",
        "\n",
        "  def area(self):\n",
        "    return math.pi * self.radius ** 2\n",
        "\n",
        "class Rectangle(Shape): #rectangle class implements area method\n",
        "  def __init__(self,width,length):\n",
        "    self.width = width\n",
        "    self.length = length\n",
        "\n",
        "  def area(self):\n",
        "    return self.width * self.length\n",
        "\n",
        "#now generating object and calculate area of these two shape\n",
        "circle = Circle(6)\n",
        "rectang = Rectangle(5,8)\n",
        "print(f\"Area of Circle: {circle.area()}\")\n",
        "print(f\"Area of Rectangle: {rectang.area()}\")"
      ],
      "metadata": {
        "colab": {
          "base_uri": "https://localhost:8080/"
        },
        "id": "ZZBNAeO-t0Xn",
        "outputId": "02941c22-94b3-4d56-f22e-71773fd9410f"
      },
      "execution_count": 60,
      "outputs": [
        {
          "output_type": "stream",
          "name": "stdout",
          "text": [
            "Area of Circle: 113.09733552923255\n",
            "Area of Rectangle: 40\n"
          ]
        }
      ]
    },
    {
      "cell_type": "markdown",
      "source": [
        "**9. Demonstrate polymorphism by creating a function that can work with different shape objects to calculate and print their areas**"
      ],
      "metadata": {
        "id": "19eIRyXRuqYI"
      }
    },
    {
      "cell_type": "markdown",
      "source": [
        "Polymorphism in Python allows us to define methods in such a way that they can be used with objects of different types. In the context of shapes, this means we can create a single function that can accept any shape object and calculate its area, regardless of the specific type of shape.\n",
        "\n",
        "Example of Polymorphism with Shapes:\n",
        "First, we'll use the abstract base class Shape and the concrete subclasses Circle and Rectangle as defined earlier. Then, we'll create a function print_area() that works with any shape object to calculate and print its area."
      ],
      "metadata": {
        "id": "_tM73QMVHsNW"
      }
    },
    {
      "cell_type": "code",
      "source": [
        "from abc import ABC, abstractmethod\n",
        "import math\n",
        "\n",
        "#abstract base class\n",
        "class Shape(ABC):\n",
        "\n",
        "    @abstractmethod\n",
        "    def area(self):\n",
        "        pass\n",
        "\n",
        "#circle class\n",
        "class Circle(Shape):\n",
        "    def __init__(self, radius):\n",
        "        self.radius = radius\n",
        "\n",
        "    def area(self):\n",
        "        return math.pi * self.radius ** 2\n",
        "\n",
        "#rectangle class\n",
        "class Rectangle(Shape):\n",
        "    def __init__(self, width, height):\n",
        "        self.width = width\n",
        "        self.height = height\n",
        "\n",
        "    def area(self):\n",
        "        return self.width * self.height\n",
        "\n",
        "#function demonstrating polymorphism\n",
        "def print_area(shape):\n",
        "    print(f\"The area of the shape is: {shape.area()}\")\n",
        "\n",
        "#create instances of Circle and Rectangle\n",
        "circle = Circle(5)\n",
        "rectangle = Rectangle(4, 6)\n",
        "\n",
        "#using the same function to calculate and print area of different shapes\n",
        "print_area(circle)\n",
        "print_area(rectangle)"
      ],
      "metadata": {
        "id": "7YsaY4Eyuws9",
        "colab": {
          "base_uri": "https://localhost:8080/"
        },
        "outputId": "a3529361-ec37-4121-cd2f-1755cd3a28a4"
      },
      "execution_count": 61,
      "outputs": [
        {
          "output_type": "stream",
          "name": "stdout",
          "text": [
            "The area of the shape is: 78.53981633974483\n",
            "The area of the shape is: 24\n"
          ]
        }
      ]
    },
    {
      "cell_type": "markdown",
      "source": [
        "**10. Implement encapsulation in a `BankAccount` class with private attributes for `balance` and `account_number`. Include methods for deposit, withdrawal, and balance inquiry**"
      ],
      "metadata": {
        "id": "L3jp7_fnuxFA"
      }
    },
    {
      "cell_type": "markdown",
      "source": [
        "Encapsulation is a fundamental principle of object-oriented programming that restricts direct access to an object's data, allowing manipulation only through well-defined methods. In Python, encapsulation is implemented using private attributes and public methods.\n",
        "\n",
        "Here's an implementation of the BankAccount class with private attributes for balance and account_number, along with methods for deposit, withdrawal, and balance inquiry:"
      ],
      "metadata": {
        "id": "9cQLF1-ZJm0w"
      }
    },
    {
      "cell_type": "code",
      "source": [
        "class BankAccount:\n",
        "    def __init__(self, account_number,balance=0):\n",
        "        self.__account_number = account_number  # Private attribute for account number\n",
        "        self.__balance = balance        # Private attribute for balance\n",
        "\n",
        "    # Method to deposit money\n",
        "    def deposit(self, amount):\n",
        "        if amount > 0:\n",
        "            self.__balance = self.__balance + amount\n",
        "            print(f\"Deposited: {amount}. New Balance: {self.__balance}\")\n",
        "        else:\n",
        "            print(\"Deposit amount must be positive.\")\n",
        "\n",
        "    # Method to withdraw money\n",
        "    def withdraw(self, amount):\n",
        "        if amount > 0:\n",
        "            if self.__balance >= amount:\n",
        "                self.__balance = self.__balance - amount\n",
        "                print(f\"Withdrawn: {amount}. Remaining Balance: {self.__balance}\")\n",
        "            else:\n",
        "                print(\"Insufficient funds.\")\n",
        "        else:\n",
        "            print(\"Withdrawal amount must be positive.\")\n",
        "\n",
        "    # Method to inquire balance\n",
        "    def get_balance(self):\n",
        "        print(f\"Current Balance: {self.__balance}\")\n",
        "        return self.__balance\n",
        "\n",
        "    # Method to get account number\n",
        "    def get_account_number(self):\n",
        "        return self.__account_number\n",
        "\n",
        "# Creating a bank account object\n",
        "acct = BankAccount(\"12345678\", 1000)\n",
        "\n",
        "# Deposit money\n",
        "acct.deposit(500)\n",
        "\n",
        "# Withdraw money\n",
        "acct.withdraw(200)\n",
        "\n",
        "# Inquire balance\n",
        "acct.get_balance()\n",
        "\n",
        "# Accessing the account number via the method\n",
        "print(f\"Account number: {acct.get_account_number()}\")\n"
      ],
      "metadata": {
        "id": "lC3aqX6Su3S-",
        "colab": {
          "base_uri": "https://localhost:8080/"
        },
        "outputId": "f4698006-f378-428f-e8f5-6ed6fb4cd383"
      },
      "execution_count": 62,
      "outputs": [
        {
          "output_type": "stream",
          "name": "stdout",
          "text": [
            "Deposited: 500. New Balance: 1500\n",
            "Withdrawn: 200. Remaining Balance: 1300\n",
            "Current Balance: 1300\n",
            "Account number: 12345678\n"
          ]
        }
      ]
    },
    {
      "cell_type": "markdown",
      "source": [
        "**11. Write a class that overrides the `__str__` and `__add__` magic methods. What will these methods allow you to do?**"
      ],
      "metadata": {
        "id": "iYkTRDfWu3jA"
      }
    },
    {
      "cell_type": "markdown",
      "source": [
        "In Python, magic methods (also known as dunder methods because they start and end with double underscores) allow you to define the behavior of objects for various operations. The __str__ and __add__ methods are two such magic methods.\n",
        "\n",
        "__str__(): This method defines the string representation of an object when you use the print() function or str() on an instance. By overriding __str__, you can customize the output message when the object is converted to a string.\n",
        "\n",
        "__add__(): This method defines the behavior of the + operator for an object. By overriding __add__, you can specify how two instances of a class should be added together"
      ],
      "metadata": {
        "id": "pZJnxBE7Lv1v"
      }
    },
    {
      "cell_type": "code",
      "source": [
        "#Let's create a class Vector that represents a 2D vector and overrides both the __str__ and __add__ methods.\n",
        "class Vector:\n",
        "    def __init__(self, x, y):\n",
        "        self.x = x\n",
        "        self.y = y\n",
        "\n",
        "    # Overriding the __str__ method\n",
        "    def __str__(self):\n",
        "        return f\"Vector({self.x}, {self.y})\"\n",
        "\n",
        "    # Overriding the __add__ method\n",
        "    def __add__(self, other):\n",
        "        if isinstance(other, Vector):\n",
        "            return Vector(self.x + other.x, self.y + other.y)\n",
        "        else:\n",
        "            return NotImplemented\n",
        "\n",
        "# Creating two Vector objects\n",
        "v1 = Vector(2, 3)\n",
        "v2 = Vector(4, 5)\n",
        "\n",
        "# Using the __str__ method\n",
        "print(v1)\n",
        "print(v2)\n",
        "\n",
        "# Using the __add__ method\n",
        "v3 = v1 + v2  # Adds corresponding components of v1 and v2\n",
        "print(v3)\n"
      ],
      "metadata": {
        "id": "0HRlAHKku56K",
        "colab": {
          "base_uri": "https://localhost:8080/"
        },
        "outputId": "c8e922f4-1a47-4e80-d12e-fd2990dea9ad"
      },
      "execution_count": 63,
      "outputs": [
        {
          "output_type": "stream",
          "name": "stdout",
          "text": [
            "Vector(2, 3)\n",
            "Vector(4, 5)\n",
            "Vector(6, 8)\n"
          ]
        }
      ]
    },
    {
      "cell_type": "markdown",
      "source": [
        "Explanation:\n",
        "__str__() Method:\n",
        "\n",
        "When you call print(v1), the __str__() method is invoked, which returns a formatted string Vector(2, 3). This provides a user-friendly string representation of the object.\n",
        "If __str__() were not overridden, the default output would be something like <__main__.Vector object at 0x000001>, which is not very informative.\n",
        "__add__() Method:\n",
        "\n",
        "When you use the + operator as in v1 + v2, the __add__() method is called.\n",
        "The __add__() method checks if the other object is an instance of Vector and then adds the corresponding components (x and y) of the two vectors to create and return a new Vector object with the sum of these components.\n",
        "If other is not a Vector instance, the method returns NotImplemented, which means the addition operation is not defined for this combination of types.\n",
        "Benefits of Overriding These Methods:\n",
        "__str__():\n",
        "\n",
        "Provides a readable string representation of the object, making it easier to understand what the object represents when printed or converted to a string.\n",
        "__add__():\n",
        "\n",
        "Enables custom behavior for the + operator, allowing you to define how two objects of the class should be combined.\n",
        "This can be particularly useful for objects representing mathematical constructs (like vectors, matrices) or data structures where addition or concatenation has a specific meaning."
      ],
      "metadata": {
        "id": "7io-GP_UMtkz"
      }
    },
    {
      "cell_type": "markdown",
      "source": [
        "**12. Create a decorator that measures and prints the execution time of a function.**"
      ],
      "metadata": {
        "id": "c3yx7WiEu6Ws"
      }
    },
    {
      "cell_type": "code",
      "source": [
        "import time\n",
        "\n",
        "def execution_time_decorator(func):\n",
        "    def wrapper(*args, **kwargs):\n",
        "        start_time = time.time()  # Record the start time\n",
        "        result = func(*args, **kwargs)  # Call the original function\n",
        "        end_time = time.time()  # Record the end time\n",
        "        execution_time = end_time - start_time  # Calculate the execution time\n",
        "        print(f\"Execution time of '{func.__name__}': {execution_time:.6f} seconds\")\n",
        "        return result\n",
        "    return wrapper\n",
        "\n",
        "# Using the decorator to measure the execution time of a function\n",
        "@execution_time_decorator\n",
        "def example_function():\n",
        "    for _ in range(1000000):\n",
        "        pass  # Simulating a time-consuming operation\n",
        "\n",
        "# Call the decorated function\n",
        "example_function()\n"
      ],
      "metadata": {
        "id": "mODaoxssu-nm",
        "colab": {
          "base_uri": "https://localhost:8080/"
        },
        "outputId": "d8c06b13-ce05-4aba-d6b0-e832e1df9a1b"
      },
      "execution_count": 64,
      "outputs": [
        {
          "output_type": "stream",
          "name": "stdout",
          "text": [
            "Execution time of 'example_function': 0.051303 seconds\n"
          ]
        }
      ]
    },
    {
      "cell_type": "markdown",
      "source": [
        "Explanation:\n",
        "execution_time_decorator(func):\n",
        "\n",
        "This is the decorator function that takes another function func as an argument.\n",
        "It defines an inner function wrapper(*args, **kwargs) that wraps the original function func. The *args and **kwargs are used to pass any arguments to the original function.\n",
        "start_time = time.time():\n",
        "\n",
        "Records the current time before the function func is called. This is the start time of the function execution.\n",
        "result = func(*args, **kwargs):\n",
        "\n",
        "Calls the original function with its arguments and stores the result in result.\n",
        "end_time = time.time():\n",
        "\n",
        "Records the current time after the function func has finished executing. This is the end time of the function execution.\n",
        "execution_time = end_time - start_time:\n",
        "\n",
        "Calculates the total time taken by the function to execute by subtracting start_time from end_time.\n",
        "print(f\"Execution time of '{func.__name__}': {execution_time:.6f} seconds\"):\n",
        "\n",
        "Prints the execution time of the function in seconds. func.__name__ returns the name of the function being decorated.\n",
        "return result:\n",
        "\n",
        "Returns the result of the original function func so that the behavior of the function is not altered by the decorator.\n",
        "@execution_time_decorator:\n",
        "\n",
        "This is the syntax used to apply the decorator to example_function. It means that example_function is now wrapped with the execution_time_decorator, and every time example_function is called, its execution time will be measured and printed.\n",
        "Usage:\n",
        "This decorator can be used on any function to measure its execution time. Simply place @execution_time_decorator above the function definition.\n",
        "The decorator prints the time it took for the decorated function to execute, providing a simple and effective way to monitor performance."
      ],
      "metadata": {
        "id": "KPtbzDTfNfYv"
      }
    },
    {
      "cell_type": "markdown",
      "source": [
        "**13. Explain the concept of the Diamond Problem in multiple inheritance. How does Python resolve it?**"
      ],
      "metadata": {
        "id": "u4C6uYXbu_Dx"
      }
    },
    {
      "cell_type": "markdown",
      "source": [
        "The Diamond Problem in Multiple Inheritance\n",
        "The Diamond Problem is a classic issue in multiple inheritance that arises when a class inherits from two classes that have a common base class. It is called the \"diamond problem\" because of the shape of the inheritance diagram.\n",
        "\n",
        "Problem Description:\n",
        "\n",
        "Consider the following class hierarchy:"
      ],
      "metadata": {
        "id": "oX-iNziXNqqb"
      }
    },
    {
      "cell_type": "code",
      "source": [
        " '''     A\n",
        "        / \\\n",
        "       B   C\n",
        "        \\ /\n",
        "         D\n",
        "\n",
        "  '''\n"
      ],
      "metadata": {
        "id": "VLmvp_PgvAy3",
        "colab": {
          "base_uri": "https://localhost:8080/",
          "height": 36
        },
        "outputId": "00faeeec-5b42-4a75-ca4d-51e8951143a0"
      },
      "execution_count": 65,
      "outputs": [
        {
          "output_type": "execute_result",
          "data": {
            "text/plain": [
              "'     A\\n       /       B   C\\n       \\\\ /\\n        D\\n\\n '"
            ],
            "application/vnd.google.colaboratory.intrinsic+json": {
              "type": "string"
            }
          },
          "metadata": {},
          "execution_count": 65
        }
      ]
    },
    {
      "cell_type": "markdown",
      "source": [
        "Class A is the base class.\n",
        "Classes B and C inherit from A.\n",
        "Class D inherits from both B and C.\n",
        "The problem occurs when D tries to access a method or attribute that is defined in A. There are two possible paths to reach A:\n",
        "\n",
        "D -> B -> A\n",
        "D -> C -> A\n",
        "This creates ambiguity. Which path should be taken to resolve the method or attribute call in A? This ambiguity is known as the diamond problem."
      ],
      "metadata": {
        "id": "JI82zdwqN7Cj"
      }
    },
    {
      "cell_type": "code",
      "source": [
        "#example\n",
        "class A:\n",
        "    def greet(self):\n",
        "        print(\"Hello from A\")\n",
        "\n",
        "class B(A):\n",
        "    def greet(self):\n",
        "        print(\"Hello from B\")\n",
        "\n",
        "class C(A):\n",
        "    def greet(self):\n",
        "        print(\"Hello from C\")\n",
        "\n",
        "class D(B, C):\n",
        "    pass\n",
        "\n",
        "d = D()\n",
        "d.greet()  # Which greet() should be called?\n"
      ],
      "metadata": {
        "colab": {
          "base_uri": "https://localhost:8080/"
        },
        "id": "A4gpnYTfOAtq",
        "outputId": "6738b73b-fd75-4f6d-a6ed-913e02e9b08e"
      },
      "execution_count": 66,
      "outputs": [
        {
          "output_type": "stream",
          "name": "stdout",
          "text": [
            "Hello from B\n"
          ]
        }
      ]
    },
    {
      "cell_type": "markdown",
      "source": [
        "**How Python Resolves the Diamond Problem**\n",
        "\n",
        "Python resolves the diamond problem using the Method Resolution Order (MRO), which is based on the C3 Linearization Algorithm. The MRO determines the order in which classes are traversed when searching for a method or attribute.\n",
        "\n",
        "MRO: The MRO is a specific order that Python follows to look for methods and attributes. You can check the MRO of any class using the __mro__ attribute or the mro() method.\n",
        "\n",
        "C3 Linearization Algorithm: This algorithm ensures that:\n",
        "\n",
        "A child class is checked before its parent classes.\n",
        "The left-to-right order of parent classes in the class definition is respected.\n",
        "A parent class is only checked once."
      ],
      "metadata": {
        "id": "EIpOcYIAOj7G"
      }
    },
    {
      "cell_type": "code",
      "source": [
        "#example of mro in python\n",
        "print(D.__mro__)"
      ],
      "metadata": {
        "colab": {
          "base_uri": "https://localhost:8080/"
        },
        "id": "8afpBaniO5ME",
        "outputId": "bbc532f6-c896-488a-8769-6e2a345ba89a"
      },
      "execution_count": 67,
      "outputs": [
        {
          "output_type": "stream",
          "name": "stdout",
          "text": [
            "(<class '__main__.D'>, <class '__main__.B'>, <class '__main__.C'>, <class '__main__.A'>, <class 'object'>)\n"
          ]
        }
      ]
    },
    {
      "cell_type": "markdown",
      "source": [
        "This means that when d.greet() is called, Python will look for greet in the order:\n",
        "\n",
        "D\n",
        "\n",
        "B\n",
        "\n",
        "C\n",
        "\n",
        "A\n",
        "\n",
        "object (the ultimate base class in Python)\n",
        "Since D does not have its own greet() method, it will call the greet() method in B because B comes before C in the MRO"
      ],
      "metadata": {
        "id": "0SZdTXqJPMd7"
      }
    },
    {
      "cell_type": "code",
      "source": [
        "d.greet() #in this case, greet() from B is called because B appears before C in the MRO."
      ],
      "metadata": {
        "colab": {
          "base_uri": "https://localhost:8080/"
        },
        "id": "rhGegH6NPUix",
        "outputId": "24856f5a-1472-4879-f08f-836dbd2a31d8"
      },
      "execution_count": 68,
      "outputs": [
        {
          "output_type": "stream",
          "name": "stdout",
          "text": [
            "Hello from B\n"
          ]
        }
      ]
    },
    {
      "cell_type": "markdown",
      "source": [
        "**14. Write a class method that keeps track of the number of instances created from a class.**"
      ],
      "metadata": {
        "id": "9JpllvXsvBRI"
      }
    },
    {
      "cell_type": "markdown",
      "source": [
        "To keep track of the number of instances created from a class, we can use a class attribute that is shared among all instances of the class. We can then increment this attribute every time a new instance is created. This is typically done using a class method.\n",
        "\n",
        "Here’s how you can implement such a class:"
      ],
      "metadata": {
        "id": "GO6ByNUtPx7m"
      }
    },
    {
      "cell_type": "code",
      "source": [
        "class InstanceCounter:\n",
        "    # Class attribute to count instances\n",
        "    instance_count = 0\n",
        "\n",
        "    def __init__(self):\n",
        "        # Increment the counter each time a new instance is created\n",
        "        InstanceCounter.instance_count = InstanceCounter.instance_count+1\n",
        "\n",
        "    @classmethod\n",
        "    def get_instance_count(cls):\n",
        "        # Return the current instance count\n",
        "        return cls.instance_count\n",
        "\n",
        "# Create instances of the class\n",
        "obj1 = InstanceCounter()\n",
        "obj2 = InstanceCounter()\n",
        "obj3 = InstanceCounter()\n",
        "\n",
        "# Call the class method to get the number of instances created\n",
        "print(f\"Number of instances created: {InstanceCounter.get_instance_count()}\")\n"
      ],
      "metadata": {
        "id": "LA0u78QMvFyx",
        "colab": {
          "base_uri": "https://localhost:8080/"
        },
        "outputId": "26436a4b-89ba-4d24-e898-c5932f72dabd"
      },
      "execution_count": 69,
      "outputs": [
        {
          "output_type": "stream",
          "name": "stdout",
          "text": [
            "Number of instances created: 3\n"
          ]
        }
      ]
    },
    {
      "cell_type": "markdown",
      "source": [
        "Explanation:\n",
        "\n",
        "Class Attribute instance_count:\n",
        "\n",
        "instance_count is a class attribute, shared among all instances of the class. It is initialized to 0.\n",
        "Constructor __init__():\n",
        "\n",
        "Each time a new object is instantiated, the __init__() method is called. Within this method, InstanceCounter.instance_count is incremented by 1, thus keeping track of the number of instances created.\n",
        "Class Method get_instance_count(cls):\n",
        "\n",
        "The @classmethod decorator is used to define a class method.\n",
        "cls is the class itself (InstanceCounter), and the method returns the current value of cls.instance_count.\n",
        "This method allows you to access the instance count without creating an object, using the class name directly.\n",
        "Creating Instances:\n",
        "\n",
        "We create three instances of InstanceCounter (i.e., obj1, obj2, and obj3).\n",
        "Retrieving the Count:\n",
        "\n",
        "The class method InstanceCounter.get_instance_count() returns the total number of instances created, which is 3 in this case."
      ],
      "metadata": {
        "id": "uKF_TujdQRIC"
      }
    },
    {
      "cell_type": "markdown",
      "source": [
        "**15. Implement a static method in a class that checks if a given year is a leap year.**"
      ],
      "metadata": {
        "id": "AbfbKSTnvGG4"
      }
    },
    {
      "cell_type": "markdown",
      "source": [
        "To implement a static method in a class that checks if a given year is a leap year, we use the @staticmethod decorator. A static method does not take the self or cls parameters, as it does not operate on an instance or the class itself. It’s just a method that belongs to the class and can be called on the class itself."
      ],
      "metadata": {
        "id": "XkXYmzI6Qdhz"
      }
    },
    {
      "cell_type": "code",
      "source": [
        "#Here’s how you can implement a static method for checking if a given year is a leap year:\n",
        "class DateUtils:\n",
        "    @staticmethod\n",
        "    def is_leap_year(year):\n",
        "        # A year is a leap year if it is divisible by 4\n",
        "        # except for end-of-century years, which must be divisible by 400.\n",
        "        if (year % 4 == 0 and year % 100 != 0) or (year % 400 == 0):\n",
        "            return True\n",
        "        else:\n",
        "            return False\n",
        "\n",
        "# Usage of the static method without creating an instance of the class\n",
        "print(f\"Leap Year: {DateUtils.is_leap_year(2024)}\")\n",
        "print(f\"Leap Year: {DateUtils.is_leap_year(2021)}\")\n",
        "print(f\"Leap Year: {DateUtils.is_leap_year(1900)}\")\n",
        "print(f\"Leap Year: {DateUtils.is_leap_year(2000)}\")"
      ],
      "metadata": {
        "colab": {
          "base_uri": "https://localhost:8080/"
        },
        "id": "nsAqof6OQepy",
        "outputId": "1c4bf631-bb5e-4b45-be98-5cc9c9144a1e"
      },
      "execution_count": 70,
      "outputs": [
        {
          "output_type": "stream",
          "name": "stdout",
          "text": [
            "Leap Year: True\n",
            "Leap Year: False\n",
            "Leap Year: False\n",
            "Leap Year: True\n"
          ]
        }
      ]
    }
  ]
}